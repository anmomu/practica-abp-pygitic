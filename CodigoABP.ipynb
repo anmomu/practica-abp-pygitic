{
 "cells": [
  {
   "cell_type": "markdown",
   "metadata": {},
   "source": [
    "Crear \"collection\" para que funcione el rekognition. Aquí almacenará las caras ya procesadas para luego cotejarlas"
   ]
  },
  {
   "cell_type": "code",
   "execution_count": null,
   "metadata": {},
   "outputs": [],
   "source": [
    "import boto3\n",
    "REGION = 'us-east-1'\n",
    "\n",
    "def create_collection(collection_id):\n",
    "\n",
    "    client=boto3.client('rekognition', region_name=REGION)\n",
    "\n",
    "    #Create a collection\n",
    "    print('Creating collection:' + collection_id)\n",
    "    response=client.create_collection(CollectionId=collection_id)\n",
    "    print('Collection ARN: ' + response['CollectionArn'])\n",
    "    print('Status code: ' + str(response['StatusCode']))\n",
    "    print('Done...')\n",
    "    \n",
    "def main():\n",
    "    #\n",
    "    ## Esta variable \"collection_id\" es importante\n",
    "    ##\n",
    "    collection_id='CollectionRekog1'\n",
    "    create_collection(collection_id)\n",
    "\n",
    "if __name__ == \"__main__\":\n",
    "    main()  "
   ]
  },
  {
   "cell_type": "markdown",
   "metadata": {},
   "source": [
    "Crear la bd y su estructura, con dynamo"
   ]
  },
  {
   "cell_type": "code",
   "execution_count": 29,
   "metadata": {},
   "outputs": [
    {
     "name": "stdout",
     "output_type": "stream",
     "text": [
      "0\n"
     ]
    }
   ],
   "source": [
    "import boto3\n",
    "REGION = 'us-east-1'\n",
    "\n",
    "dynamodb = boto3.resource('dynamodb', region_name=REGION)\n",
    "\n",
    "table = dynamodb.create_table(\n",
    "    TableName='rekog-index',\n",
    "    KeySchema=[\n",
    "        {\n",
    "            'AttributeName': 'RekognitionId',\n",
    "            'KeyType': 'HASH'\n",
    "        }\n",
    "    ],\n",
    "    AttributeDefinitions=[\n",
    "        {\n",
    "            'AttributeName': 'RekognitionId',\n",
    "            'AttributeType': 'S'\n",
    "        }\n",
    "    ],\n",
    "    ProvisionedThroughput={\n",
    "        'ReadCapacityUnits': 1,\n",
    "        'WriteCapacityUnits': 1\n",
    "    }\n",
    ")\n",
    "\n",
    "table.meta.client.get_waiter('table_exists').wait(TableName='rekog-index')\n",
    "print(table.item_count)"
   ]
  },
  {
   "cell_type": "markdown",
   "metadata": {},
   "source": [
    "Crear el bucket que usaremos para la recepcion de nuevas fotos que deseamos que estén en la lista de \"permitidos\""
   ]
  },
  {
   "cell_type": "code",
   "execution_count": 8,
   "metadata": {
    "scrolled": true
   },
   "outputs": [
    {
     "data": {
      "text/plain": [
       "{'ResponseMetadata': {'RequestId': 'F928BD1B7D330767',\n",
       "  'HostId': 'tEzJZPksbAVRpwDArCJbKb7Sa3bUdtwmqKyvzpxgZUSF5zQ3NIl/7kU6QuWNpgK6PCpZcCevGqA=',\n",
       "  'HTTPStatusCode': 200,\n",
       "  'HTTPHeaders': {'x-amz-id-2': 'tEzJZPksbAVRpwDArCJbKb7Sa3bUdtwmqKyvzpxgZUSF5zQ3NIl/7kU6QuWNpgK6PCpZcCevGqA=',\n",
       "   'x-amz-request-id': 'F928BD1B7D330767',\n",
       "   'date': 'Sat, 18 Apr 2020 17:26:50 GMT',\n",
       "   'location': '/image-store-rekog-abp',\n",
       "   'content-length': '0',\n",
       "   'server': 'AmazonS3'},\n",
       "  'RetryAttempts': 0},\n",
       " 'Location': '/image-store-rekog-abp'}"
      ]
     },
     "execution_count": 8,
     "metadata": {},
     "output_type": "execute_result"
    }
   ],
   "source": [
    "import boto3\n",
    "\n",
    "REGION = 'us-east-1'\n",
    "client = boto3.client('s3')\n",
    "\n",
    "s3 = boto3.client('s3', region_name=REGION)\n",
    "s3.create_bucket(Bucket='image-store-rekog-abp')"
   ]
  },
  {
   "cell_type": "code",
   "execution_count": 12,
   "metadata": {},
   "outputs": [
    {
     "data": {
      "text/plain": [
       "{'ResponseMetadata': {'RequestId': '87258874BC20097A',\n",
       "  'HostId': '5RkEIPTdOrg/wzdEHy2Nw7tixmxs2hqqjW915IaJ4bHmgtbMBKO6PG9cGeZxoyOxi1SOJjNB5z4=',\n",
       "  'HTTPStatusCode': 200,\n",
       "  'HTTPHeaders': {'x-amz-id-2': '5RkEIPTdOrg/wzdEHy2Nw7tixmxs2hqqjW915IaJ4bHmgtbMBKO6PG9cGeZxoyOxi1SOJjNB5z4=',\n",
       "   'x-amz-request-id': '87258874BC20097A',\n",
       "   'date': 'Sat, 18 Apr 2020 18:59:19 GMT',\n",
       "   'content-type': 'application/xml',\n",
       "   'transfer-encoding': 'chunked',\n",
       "   'server': 'AmazonS3'},\n",
       "  'RetryAttempts': 0},\n",
       " 'Buckets': [{'Name': 'image-store-rekog-abp',\n",
       "   'CreationDate': datetime.datetime(2020, 4, 18, 17, 26, 50, tzinfo=tzutc())}],\n",
       " 'Owner': {'DisplayName': 'awslabsc0w599719t1581788104',\n",
       "  'ID': '25ce6a6aad39690620401a3453a28ad5b640ad84331aafe7e6eb449eb2c2ba72'}}"
      ]
     },
     "execution_count": 12,
     "metadata": {},
     "output_type": "execute_result"
    }
   ],
   "source": [
    "import boto3\n",
    "\n",
    "REGION = 'us-east-1'\n",
    "client = boto3.client('s3')\n",
    "client.list_buckets()"
   ]
  },
  {
   "cell_type": "markdown",
   "metadata": {},
   "source": [
    "## Función Lambda"
   ]
  },
  {
   "cell_type": "markdown",
   "metadata": {},
   "source": [
    "La creacion de la funcion lambda se hace desde el navegador como en el taller 2.\n",
    "Habrá que darle permisos a la funcion lambda para realizar acciones (s3fullAccess, dynamoFullAccess)\n",
    "Y se configura un trigger para s3 (All actions, \"index/\")\n",
    "El codigo de la funcion:"
   ]
  },
  {
   "cell_type": "code",
   "execution_count": null,
   "metadata": {},
   "outputs": [],
   "source": [
    "from __future__ import print_function\n",
    "\n",
    "import boto3\n",
    "from decimal import Decimal\n",
    "import json\n",
    "import urllib\n",
    "\n",
    "print('Loading function')\n",
    "\n",
    "dynamodb = boto3.client('dynamodb')\n",
    "s3 = boto3.client('s3')\n",
    "rekognition = boto3.client('rekognition')\n",
    "\n",
    "\n",
    "# --------------- Helper Functions ------------------\n",
    "\n",
    "def index_faces(bucket, key):\n",
    "\n",
    "    response = rekognition.index_faces(\n",
    "        Image={\"S3Object\":\n",
    "            {\"Bucket\": bucket,\n",
    "            \"Name\": key}},\n",
    "            CollectionId=\"CollectionRekog1\")\n",
    "    return response\n",
    "    \n",
    "def update_index(tableName,faceId, fullName):\n",
    "    response = dynamodb.put_item(\n",
    "        TableName=tableName,\n",
    "        Item={\n",
    "            'RekognitionId': {'S': faceId},\n",
    "            'FullName': {'S': fullName}\n",
    "            }\n",
    "        ) \n",
    "    \n",
    "# --------------- Main handler ------------------\n",
    "\n",
    "def lambda_handler(event, context):\n",
    "\n",
    "    # Get the object from the event\n",
    "    bucket = event['Records'][0]['s3']['bucket']['name']\n",
    "    key = urllib.unquote_plus(\n",
    "        event['Records'][0]['s3']['object']['key'].encode('utf8'))\n",
    "\n",
    "    try:\n",
    "\n",
    "        # Calls Amazon Rekognition IndexFaces API to detect faces in S3 object \n",
    "        # to index faces into specified collection\n",
    "        \n",
    "        response = index_faces(bucket, key)\n",
    "        \n",
    "        # Commit faceId and full name object metadata to DynamoDB\n",
    "        \n",
    "        if response['ResponseMetadata']['HTTPStatusCode'] == 200:\n",
    "            faceId = response['FaceRecords'][0]['Face']['FaceId']\n",
    "\n",
    "            ret = s3.head_object(Bucket=bucket,Key=key)\n",
    "            personFullName = ret['Metadata']['fullname']\n",
    "\n",
    "            update_index('rekog-index',faceId,personFullName)\n",
    "\n",
    "        # Print response to console\n",
    "        print(response)\n",
    "\n",
    "        return response\n",
    "    except Exception as e:\n",
    "        print(e)\n",
    "        print(\"Error processing object {} from bucket {}. \".format(key, bucket))\n",
    "        raise e"
   ]
  },
  {
   "cell_type": "markdown",
   "metadata": {},
   "source": [
    "Esta parte del codigo es para subir al bucket las fotos de las personas que deseamos que estén autorizadas para entrar. \n",
    "De esto modo se disparará lambda"
   ]
  },
  {
   "cell_type": "code",
   "execution_count": 30,
   "metadata": {},
   "outputs": [],
   "source": [
    "import boto3\n",
    "\n",
    "s3 = boto3.resource('s3')\n",
    "\n",
    "# Get list of objects for indexing\n",
    "images=[('image01.jpeg','Albert Einstein'),\n",
    "      ('image02.jpeg','Albert Einstein'),\n",
    "#      ,('image03.jpeg','Albert Einstein'),\n",
    "#      ('image04.jpeg','Niels Bohr'),\n",
    "#      ('image05.jpeg','Niels Bohr'),\n",
    "#      ('image06.jpeg','Niels Bohr')\n",
    "      ]\n",
    "\n",
    "# Iterate through list to upload objects to S3   \n",
    "for image in images:\n",
    "    file = open(image[0],'rb')\n",
    "    object = s3.Object('image-store-rekog-abp','index/'+ image[0])\n",
    "    ret = object.put(Body=file,\n",
    "                    Metadata={'FullName':image[1]}\n",
    "                    )"
   ]
  },
  {
   "cell_type": "markdown",
   "metadata": {},
   "source": [
    "Listar contenido insertado del bucket"
   ]
  },
  {
   "cell_type": "code",
   "execution_count": 17,
   "metadata": {},
   "outputs": [
    {
     "name": "stdout",
     "output_type": "stream",
     "text": [
      "['flows.json', 'index/image01.jpeg', 'index/image02.jpeg', 'index1.json', 'layers.PNG']\n"
     ]
    }
   ],
   "source": [
    "s3 = boto3.client('s3', region_name=REGION)\n",
    "response = s3.list_objects_v2(\n",
    "    Bucket='image-store-rekog-abp',\n",
    "    Prefix=''\n",
    ")\n",
    "keys = [obj['Key'] for obj in response['Contents']]\n",
    "print(keys)"
   ]
  },
  {
   "cell_type": "markdown",
   "metadata": {},
   "source": [
    "Si la funcion lambda se ha disparado correctamente, con la siguiente celda podremos ver los elementos almacenados en la \"collection\""
   ]
  },
  {
   "cell_type": "code",
   "execution_count": 31,
   "metadata": {
    "scrolled": false
   },
   "outputs": [
    {
     "name": "stdout",
     "output_type": "stream",
     "text": [
      "Faces in collection CollectionRekog1\n",
      "{'FaceId': '34e02704-a9cc-44b3-a998-0832b1deced6', 'BoundingBox': {'Width': 0.3958590030670166, 'Height': 0.4446370005607605, 'Left': 0.36708301305770874, 'Top': 0.32479000091552734}, 'ImageId': '34ffc8dd-d78e-396a-a4d4-5015bea5ad49', 'Confidence': 100.0}\n",
      "{'FaceId': 'a72ff8d9-bc18-4c63-92ca-3919d8b06885', 'BoundingBox': {'Width': 0.35854798555374146, 'Height': 0.40659698843955994, 'Left': 0.18080300092697144, 'Top': 0.2640329897403717}, 'ImageId': '05dfa4e8-87b9-3305-a449-c87b717b72a7', 'Confidence': 100.0}\n",
      "faces count: 2\n"
     ]
    }
   ],
   "source": [
    "import boto3\n",
    "\n",
    "def list_faces_in_collection(collection_id):\n",
    "\n",
    "\n",
    "    maxResults=2\n",
    "    faces_count=0\n",
    "    tokens=True\n",
    "\n",
    "    client=boto3.client('rekognition', region_name='us-east-1')\n",
    "    response=client.list_faces(CollectionId=collection_id,\n",
    "                               MaxResults=maxResults)\n",
    "\n",
    "    print('Faces in collection ' + collection_id)\n",
    "\n",
    " \n",
    "    while tokens:\n",
    "\n",
    "        faces=response['Faces']\n",
    "\n",
    "        for face in faces:\n",
    "            print (face)\n",
    "            faces_count+=1\n",
    "        if 'NextToken' in response:\n",
    "            nextToken=response['NextToken']\n",
    "            response=client.list_faces(CollectionId=collection_id,\n",
    "                                       NextToken=nextToken,MaxResults=maxResults)\n",
    "        else:\n",
    "            tokens=False\n",
    "    return faces_count   \n",
    "def main():\n",
    "\n",
    "    collection_id='CollectionRekog1'\n",
    "\n",
    "    faces_count=list_faces_in_collection(collection_id)\n",
    "    print(\"faces count: \" + str(faces_count))\n",
    "if __name__ == \"__main__\":\n",
    "    main()"
   ]
  },
  {
   "cell_type": "markdown",
   "metadata": {},
   "source": [
    "Funcion auxiliar (Eliminar imagenes de la collection)"
   ]
  },
  {
   "cell_type": "code",
   "execution_count": 28,
   "metadata": {
    "scrolled": true
   },
   "outputs": [
    {
     "name": "stdout",
     "output_type": "stream",
     "text": [
      "2 faces deleted:\n",
      "adff91e7-b545-4461-ae2c-79ae3b9ef958\n",
      "b9927ef7-540a-4692-8e58-155649758961\n",
      "deleted faces count: 2\n"
     ]
    }
   ],
   "source": [
    "import boto3\n",
    "\n",
    "def delete_faces_from_collection(collection_id, faces):\n",
    "\n",
    "    client=boto3.client('rekognition', region_name='us-east-1')\n",
    "\n",
    "    response=client.delete_faces(CollectionId=collection_id,\n",
    "                               FaceIds=faces)\n",
    "    \n",
    "    print(str(len(response['DeletedFaces'])) + ' faces deleted:') \t\t\t\t\t\t\t\n",
    "    for faceId in response['DeletedFaces']:\n",
    "         print (faceId)\n",
    "    return len(response['DeletedFaces'])\n",
    "\n",
    "def main():\n",
    "\n",
    "    collection_id='CollectionRekog1'\n",
    "    faces=[]\n",
    "    faces.append(\"adff91e7-b545-4461-ae2c-79ae3b9ef958\")\n",
    "    faces.append(\"b9927ef7-540a-4692-8e58-155649758961\")\n",
    "\n",
    "    faces_count=delete_faces_from_collection(collection_id, faces)\n",
    "    print(\"deleted faces count: \" + str(faces_count))\n",
    "\n",
    "if __name__ == \"__main__\":\n",
    "    main()"
   ]
  },
  {
   "cell_type": "markdown",
   "metadata": {},
   "source": [
    "## Analisis de imagen"
   ]
  },
  {
   "cell_type": "markdown",
   "metadata": {},
   "source": [
    "Ahora le pasamos una imagen, y buscará coincidencias en la collection, y ademas, nos devolverá de dynamo el nombre del usuario"
   ]
  },
  {
   "cell_type": "code",
   "execution_count": 1,
   "metadata": {
    "scrolled": true
   },
   "outputs": [
    {
     "ename": "FileNotFoundError",
     "evalue": "[Errno 2] No such file or directory: 'pt.jpeg'",
     "output_type": "error",
     "traceback": [
      "\u001b[1;31m---------------------------------------------------------------------------\u001b[0m",
      "\u001b[1;31mFileNotFoundError\u001b[0m                         Traceback (most recent call last)",
      "\u001b[1;32m<ipython-input-1-fbea72fbdbab>\u001b[0m in \u001b[0;36m<module>\u001b[1;34m\u001b[0m\n\u001b[0;32m      7\u001b[0m \u001b[1;33m\u001b[0m\u001b[0m\n\u001b[0;32m      8\u001b[0m \u001b[1;33m\u001b[0m\u001b[0m\n\u001b[1;32m----> 9\u001b[1;33m \u001b[0mimage\u001b[0m \u001b[1;33m=\u001b[0m \u001b[0mImage\u001b[0m\u001b[1;33m.\u001b[0m\u001b[0mopen\u001b[0m\u001b[1;33m(\u001b[0m\u001b[1;34m\"pt.jpeg\"\u001b[0m\u001b[1;33m)\u001b[0m \u001b[1;31m##foto que queremos cotejar\u001b[0m\u001b[1;33m\u001b[0m\u001b[1;33m\u001b[0m\u001b[0m\n\u001b[0m\u001b[0;32m     10\u001b[0m \u001b[0mstream\u001b[0m \u001b[1;33m=\u001b[0m \u001b[0mio\u001b[0m\u001b[1;33m.\u001b[0m\u001b[0mBytesIO\u001b[0m\u001b[1;33m(\u001b[0m\u001b[1;33m)\u001b[0m\u001b[1;33m\u001b[0m\u001b[1;33m\u001b[0m\u001b[0m\n\u001b[0;32m     11\u001b[0m \u001b[0mimage\u001b[0m\u001b[1;33m.\u001b[0m\u001b[0msave\u001b[0m\u001b[1;33m(\u001b[0m\u001b[0mstream\u001b[0m\u001b[1;33m,\u001b[0m\u001b[0mformat\u001b[0m\u001b[1;33m=\u001b[0m\u001b[1;34m\"JPEG\"\u001b[0m\u001b[1;33m)\u001b[0m\u001b[1;33m\u001b[0m\u001b[1;33m\u001b[0m\u001b[0m\n",
      "\u001b[1;32mD:\\Anaconda3\\lib\\site-packages\\PIL\\Image.py\u001b[0m in \u001b[0;36mopen\u001b[1;34m(fp, mode)\u001b[0m\n\u001b[0;32m   2807\u001b[0m \u001b[1;33m\u001b[0m\u001b[0m\n\u001b[0;32m   2808\u001b[0m     \u001b[1;32mif\u001b[0m \u001b[0mfilename\u001b[0m\u001b[1;33m:\u001b[0m\u001b[1;33m\u001b[0m\u001b[1;33m\u001b[0m\u001b[0m\n\u001b[1;32m-> 2809\u001b[1;33m         \u001b[0mfp\u001b[0m \u001b[1;33m=\u001b[0m \u001b[0mbuiltins\u001b[0m\u001b[1;33m.\u001b[0m\u001b[0mopen\u001b[0m\u001b[1;33m(\u001b[0m\u001b[0mfilename\u001b[0m\u001b[1;33m,\u001b[0m \u001b[1;34m\"rb\"\u001b[0m\u001b[1;33m)\u001b[0m\u001b[1;33m\u001b[0m\u001b[1;33m\u001b[0m\u001b[0m\n\u001b[0m\u001b[0;32m   2810\u001b[0m         \u001b[0mexclusive_fp\u001b[0m \u001b[1;33m=\u001b[0m \u001b[1;32mTrue\u001b[0m\u001b[1;33m\u001b[0m\u001b[1;33m\u001b[0m\u001b[0m\n\u001b[0;32m   2811\u001b[0m \u001b[1;33m\u001b[0m\u001b[0m\n",
      "\u001b[1;31mFileNotFoundError\u001b[0m: [Errno 2] No such file or directory: 'pt.jpeg'"
     ]
    }
   ],
   "source": [
    "import boto3\n",
    "import io\n",
    "from PIL import Image\n",
    "\n",
    "rekognition = boto3.client('rekognition', region_name='us-east-1')\n",
    "dynamodb = boto3.client('dynamodb', region_name='us-east-1')\n",
    "\n",
    "\n",
    "image = Image.open(\"pt.jpeg\") ##foto que queremos cotejar\n",
    "stream = io.BytesIO()\n",
    "image.save(stream,format=\"JPEG\")\n",
    "image_binary = stream.getvalue()\n",
    "\n",
    "\n",
    "response = rekognition.search_faces_by_image(\n",
    "        CollectionId='CollectionRekog1',\n",
    "        Image={'Bytes':image_binary}                                       \n",
    "        )\n",
    "    \n",
    "for match in response['FaceMatches']:\n",
    "    print (match['Face']['FaceId'],match['Face']['Confidence'])\n",
    "        \n",
    "    face = dynamodb.get_item(\n",
    "        TableName='rekog-index',  \n",
    "        Key={'RekognitionId': {'S': match['Face']['FaceId']}}\n",
    "        )\n",
    "    \n",
    "    if 'Item' in face:\n",
    "        print (face['Item']['FullName']['S'])\n",
    "    else:\n",
    "        print ('no match found in person lookup')"
   ]
  }
 ],
 "metadata": {
  "kernelspec": {
   "display_name": "Python 3",
   "language": "python",
   "name": "python3"
  },
  "language_info": {
   "codemirror_mode": {
    "name": "ipython",
    "version": 3
   },
   "file_extension": ".py",
   "mimetype": "text/x-python",
   "name": "python",
   "nbconvert_exporter": "python",
   "pygments_lexer": "ipython3",
   "version": "3.7.4"
  }
 },
 "nbformat": 4,
 "nbformat_minor": 4
}

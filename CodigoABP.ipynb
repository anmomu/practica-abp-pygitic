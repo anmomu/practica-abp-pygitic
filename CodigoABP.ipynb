{
 "cells": [
  {
   "cell_type": "markdown",
   "metadata": {},
   "source": [
    "Crear collection para que funcione el rekognition y extraiga de aqui las fotos"
   ]
  },
  {
   "cell_type": "code",
   "execution_count": null,
   "metadata": {},
   "outputs": [],
   "source": [
    "import boto3\n",
    "REGION = 'us-east-1'\n",
    "\n",
    "def create_collection(collection_id):\n",
    "\n",
    "    client=boto3.client('rekognition', region_name=REGION)\n",
    "\n",
    "    #Create a collection\n",
    "    print('Creating collection:' + collection_id)\n",
    "    response=client.create_collection(CollectionId=collection_id)\n",
    "    print('Collection ARN: ' + response['CollectionArn'])\n",
    "    print('Status code: ' + str(response['StatusCode']))\n",
    "    print('Done...')\n",
    "    \n",
    "def main():\n",
    "    #\n",
    "    ## Esta variable \"collection_id\" es importante\n",
    "    ##\n",
    "    collection_id='CollectionRekog1'\n",
    "    create_collection(collection_id)\n",
    "\n",
    "if __name__ == \"__main__\":\n",
    "    main()  "
   ]
  },
  {
   "cell_type": "markdown",
   "metadata": {},
   "source": [
    "Crear la bd y su estructura, con dynamo"
   ]
  },
  {
   "cell_type": "code",
   "execution_count": null,
   "metadata": {},
   "outputs": [],
   "source": [
    "import boto3\n",
    "REGION = 'us-east-1'\n",
    "\n",
    "dynamodb = boto3.resource('dynamodb', region_name=REGION)\n",
    "\n",
    "table = dynamodb.create_table(\n",
    "    TableName='rekog-index',\n",
    "    KeySchema=[\n",
    "        {\n",
    "            'AttributeName': 'RekognitionId',\n",
    "            'KeyType': 'HASH'\n",
    "        }\n",
    "    ],\n",
    "    AttributeDefinitions=[\n",
    "        {\n",
    "            'AttributeName': 'RekognitionId',\n",
    "            'AttributeType': 'S'\n",
    "        }\n",
    "    ],\n",
    "    ProvisionedThroughput={\n",
    "        'ReadCapacityUnits': 1,\n",
    "        'WriteCapacityUnits': 1\n",
    "    }\n",
    ")\n",
    "\n",
    "table.meta.client.get_waiter('table_exists').wait(TableName='rekog-index')\n",
    "print(table.item_count)"
   ]
  },
  {
   "cell_type": "markdown",
   "metadata": {},
   "source": [
    "Crear tabla logs"
   ]
  },
  {
   "cell_type": "code",
   "execution_count": null,
   "metadata": {},
   "outputs": [],
   "source": [
    "import boto3\n",
    "REGION = 'us-east-1'\n",
    "\n",
    "dynamodb = boto3.resource('dynamodb', region_name=REGION)\n",
    "\n",
    "table = dynamodb.create_table(\n",
    "    TableName='test-db',\n",
    "    KeySchema=[\n",
    "        {\n",
    "            'AttributeName': 'logId',\n",
    "            'KeyType': 'HASH'\n",
    "        },\n",
    "        {\n",
    "            'AttributeName': 'timeStamp',\n",
    "            'KeyType': 'RANGE'\n",
    "        },\n",
    "    ],\n",
    "    AttributeDefinitions=[\n",
    "        {\n",
    "            'AttributeName': 'logId',\n",
    "            'AttributeType': 'S'\n",
    "        },\n",
    "        {\n",
    "            'AttributeName': 'timeStamp',\n",
    "            'AttributeType': 'S'\n",
    "        }\n",
    "    ],\n",
    "    ProvisionedThroughput={\n",
    "        'ReadCapacityUnits': 1,\n",
    "        'WriteCapacityUnits': 1\n",
    "    }\n",
    ")\n",
    "\n",
    "table.meta.client.get_waiter('table_exists').wait(TableName='test-db')\n",
    "print(table.item_count)"
   ]
  },
  {
   "cell_type": "markdown",
   "metadata": {},
   "source": [
    "Crear el bucket que usaremos"
   ]
  },
  {
   "cell_type": "code",
   "execution_count": null,
   "metadata": {
    "scrolled": true
   },
   "outputs": [],
   "source": [
    "import boto3\n",
    "\n",
    "REGION = 'us-east-1'\n",
    "client = boto3.client('s3')\n",
    "\n",
    "s3 = boto3.client('s3', region_name=REGION)\n",
    "s3.create_bucket(Bucket='image-store-rekog-abp')"
   ]
  },
  {
   "cell_type": "code",
   "execution_count": null,
   "metadata": {
    "scrolled": true
   },
   "outputs": [],
   "source": [
    "import boto3\n",
    "\n",
    "REGION = 'us-east-1'\n",
    "client = boto3.client('s3')\n",
    "client.list_buckets()"
   ]
  },
  {
   "cell_type": "markdown",
   "metadata": {},
   "source": [
    "La creacion de la funcion lambda se hace desde el navegador como en el taller 2.\n",
    "(habrá que darle permisos a la funcion lambda, de todos los elementos s3, dynamo)\n",
    "Y se configura un trigger para s3.\n",
    "El codigo de la funcion:"
   ]
  },
  {
   "cell_type": "code",
   "execution_count": null,
   "metadata": {},
   "outputs": [],
   "source": [
    "from __future__ import print_function\n",
    "\n",
    "import boto3\n",
    "from decimal import Decimal\n",
    "import json\n",
    "import urllib\n",
    "\n",
    "print('Loading function')\n",
    "\n",
    "dynamodb = boto3.client('dynamodb')\n",
    "s3 = boto3.client('s3')\n",
    "rekognition = boto3.client('rekognition')\n",
    "\n",
    "\n",
    "# --------------- Helper Functions ------------------\n",
    "\n",
    "def index_faces(bucket, key):\n",
    "\n",
    "    response = rekognition.index_faces(\n",
    "        Image={\"S3Object\":\n",
    "            {\"Bucket\": bucket,\n",
    "            \"Name\": key}},\n",
    "            CollectionId=\"CollectionRekog1\")\n",
    "    return response\n",
    "    \n",
    "def update_index(tableName,faceId, fullName):\n",
    "    response = dynamodb.put_item(\n",
    "        TableName=tableName,\n",
    "        Item={\n",
    "            'RekognitionId': {'S': faceId},\n",
    "            'FullName': {'S': fullName}\n",
    "            }\n",
    "        ) \n",
    "    \n",
    "# --------------- Main handler ------------------\n",
    "\n",
    "def lambda_handler(event, context):\n",
    "\n",
    "    # Get the object from the event\n",
    "    bucket = event['Records'][0]['s3']['bucket']['name']\n",
    "    key = urllib.unquote_plus(\n",
    "        event['Records'][0]['s3']['object']['key'].encode('utf8'))\n",
    "\n",
    "    try:\n",
    "\n",
    "        # Calls Amazon Rekognition IndexFaces API to detect faces in S3 object \n",
    "        # to index faces into specified collection\n",
    "        \n",
    "        response = index_faces(bucket, key)\n",
    "        \n",
    "        # Commit faceId and full name object metadata to DynamoDB\n",
    "        \n",
    "        if response['ResponseMetadata']['HTTPStatusCode'] == 200:\n",
    "            faceId = response['FaceRecords'][0]['Face']['FaceId']\n",
    "\n",
    "            ret = s3.head_object(Bucket=bucket,Key=key)\n",
    "            personFullName = ret['Metadata']['fullname']\n",
    "\n",
    "            update_index('rekog-index',faceId,personFullName)\n",
    "\n",
    "        # Print response to console\n",
    "        print(response)\n",
    "\n",
    "        return response\n",
    "    except Exception as e:\n",
    "        print(e)\n",
    "        print(\"Error processing object {} from bucket {}. \".format(key, bucket))\n",
    "        raise e"
   ]
  },
  {
   "cell_type": "markdown",
   "metadata": {},
   "source": [
    "Esta parte del codigo es para subir las fotos de las personas que deseamos que estén autorizadas para entrar. \n",
    "Primero se sube las fotos al bucket"
   ]
  },
  {
   "cell_type": "code",
   "execution_count": null,
   "metadata": {},
   "outputs": [],
   "source": [
    "import boto3\n",
    "import uuid\n",
    "\n",
    "s3 = boto3.resource('s3')\n",
    "\n",
    "# Get list of objects for indexing\n",
    "images=[('image01.jpeg','Carlos Negrillo'),\n",
    "#      ,('foto1.jpeg','Albert Einstein'),\n",
    "#      ('image04.jpeg','Niels Bohr'),\n",
    "#      ('image05.jpeg','Niels Bohr'),\n",
    "#      ('image06.jpeg','Niels Bohr')\n",
    "      ]\n",
    "\n",
    "# Iterate through list to upload objects to S3   \n",
    "for image in images:\n",
    "    file = open(image[0],'rb')\n",
    "    \n",
    "    object = s3.Object('image-store-rekog-abp','index/'+ str(uuid.uuid4()) + \".jpeg\")\n",
    "    ret = object.put(Body=file,\n",
    "                    Metadata={'FullName':image[1]}\n",
    "                    )"
   ]
  },
  {
   "cell_type": "markdown",
   "metadata": {},
   "source": [
    "Listar contenido insertado del bucket"
   ]
  },
  {
   "cell_type": "code",
   "execution_count": null,
   "metadata": {},
   "outputs": [],
   "source": [
    "REGION = 'us-east-1'\n",
    "\n",
    "s3 = boto3.client('s3', region_name=REGION)\n",
    "response = s3.list_objects_v2(\n",
    "    Bucket='image-store-rekog-abp',\n",
    "    Prefix=''\n",
    ")\n",
    "keys = [obj['Key'] for obj in response['Contents']]\n",
    "print(keys)"
   ]
  },
  {
   "cell_type": "markdown",
   "metadata": {},
   "source": [
    "Si la funcion lambda se ha disparado correctamente, con la siguiente celda podremos ver los elementos almacenados en la \"collection\""
   ]
  },
  {
   "cell_type": "code",
   "execution_count": 1,
   "metadata": {
    "scrolled": false
   },
   "outputs": [
    {
     "name": "stdout",
     "output_type": "stream",
     "text": [
      "Faces in collection CollectionRekog1\n",
      "{'FaceId': 'a9efe671-96ec-451d-b4be-60926ffe7fa9', 'BoundingBox': {'Width': 0.29779601097106934, 'Height': 0.41804400086402893, 'Left': 0.42515701055526733, 'Top': 0.24244900047779083}, 'ImageId': 'b3935b41-4bf0-38d4-a1d7-44efdccb715c', 'Confidence': 100.0}\n",
      "{'FaceId': 'f4430a2e-fd56-4f8e-92b1-79355c24e370', 'BoundingBox': {'Width': 0.4768500030040741, 'Height': 0.5667870044708252, 'Left': 0.28463900089263916, 'Top': 0.25153499841690063}, 'ImageId': 'd3418a99-c71b-3d4a-8134-476302e8d52b', 'Confidence': 100.0}\n",
      "faces count: 2\n"
     ]
    }
   ],
   "source": [
    "import boto3\n",
    "\n",
    "def list_faces_in_collection(collection_id):\n",
    "\n",
    "\n",
    "    maxResults=2\n",
    "    faces_count=0\n",
    "    tokens=True\n",
    "\n",
    "    client=boto3.client('rekognition', region_name='us-east-1')\n",
    "    response=client.list_faces(CollectionId=collection_id,\n",
    "                               MaxResults=maxResults)\n",
    "\n",
    "    print('Faces in collection ' + collection_id)\n",
    "\n",
    " \n",
    "    while tokens:\n",
    "\n",
    "        faces=response['Faces']\n",
    "\n",
    "        for face in faces:\n",
    "            print (face)\n",
    "            faces_count+=1\n",
    "        if 'NextToken' in response:\n",
    "            nextToken=response['NextToken']\n",
    "            response=client.list_faces(CollectionId=collection_id,\n",
    "                                       NextToken=nextToken,MaxResults=maxResults)\n",
    "        else:\n",
    "            tokens=False\n",
    "    return faces_count   \n",
    "def main():\n",
    "\n",
    "    collection_id='CollectionRekog1'\n",
    "\n",
    "    faces_count=list_faces_in_collection(collection_id)\n",
    "    print(\"faces count: \" + str(faces_count))\n",
    "if __name__ == \"__main__\":\n",
    "    main()"
   ]
  },
  {
   "cell_type": "markdown",
   "metadata": {},
   "source": [
    "Eliminar imagenes de la collection"
   ]
  },
  {
   "cell_type": "code",
   "execution_count": 22,
   "metadata": {
    "scrolled": false
   },
   "outputs": [
    {
     "name": "stdout",
     "output_type": "stream",
     "text": [
      "1 faces deleted:\n",
      "9ef327d9-76eb-41bf-80f8-0aba4d80aca7\n",
      "deleted faces count: 1\n"
     ]
    }
   ],
   "source": [
    "import boto3\n",
    "\n",
    "def delete_faces_from_collection(collection_id, faces):\n",
    "\n",
    "    client=boto3.client('rekognition', region_name='us-east-1')\n",
    "\n",
    "    response=client.delete_faces(CollectionId=collection_id,\n",
    "                               FaceIds=faces)\n",
    "    \n",
    "    print(str(len(response['DeletedFaces'])) + ' faces deleted:')\n",
    "    for faceId in response['DeletedFaces']:\n",
    "         print (faceId)\n",
    "    return len(response['DeletedFaces'])\n",
    "\n",
    "def main():\n",
    "\n",
    "    collection_id='CollectionRekog1'\n",
    "    faces=[]\n",
    "    faces.append(\"9ef327d9-76eb-41bf-80f8-0aba4d80aca7\")\n",
    "    faces.append(\"9e2a26da-e318-4b51-a8fd-0c0a58523e48\")\n",
    "\n",
    "    faces_count=delete_faces_from_collection(collection_id, faces)\n",
    "    print(\"deleted faces count: \" + str(faces_count))\n",
    "\n",
    "if __name__ == \"__main__\":\n",
    "    main()"
   ]
  },
  {
   "cell_type": "markdown",
   "metadata": {},
   "source": [
    "## Analisis de imagen"
   ]
  },
  {
   "cell_type": "markdown",
   "metadata": {},
   "source": [
    "Ahora le daremos una imagen, y buscará coincidencias en la collection, y ademas, nos devolverá de dynamo el nombre del usuario"
   ]
  },
  {
   "cell_type": "code",
   "execution_count": null,
   "metadata": {
    "scrolled": false
   },
   "outputs": [],
   "source": [
    "import boto3\n",
    "import io\n",
    "from PIL import Image\n",
    "\n",
    "rekognition = boto3.client('rekognition', region_name='us-east-1')\n",
    "dynamodb = boto3.client('dynamodb', region_name='us-east-1')\n",
    "    \n",
    "image = Image.open(\"pt1.jpeg\")\n",
    "stream = io.BytesIO()\n",
    "image.save(stream,format=\"JPEG\")\n",
    "image_binary = stream.getvalue()\n",
    "\n",
    "\n",
    "response = rekognition.search_faces_by_image(\n",
    "        CollectionId='CollectionRekog1',\n",
    "        Image={'Bytes':image_binary}                                       \n",
    "        )\n",
    "    \n",
    "for match in response['FaceMatches']:\n",
    "    print (match['Face']['FaceId'],match['Face']['Confidence'])\n",
    "        \n",
    "    face = dynamodb.get_item(\n",
    "        TableName='rekog-index',  \n",
    "        Key={'RekognitionId': {'S': match['Face']['FaceId']}}\n",
    "        )\n",
    "    \n",
    "    if 'Item' in face:\n",
    "        print (face['Item']['FullName']['S'])\n",
    "    else:\n",
    "        print ('no match found in person lookup')"
   ]
  },
  {
   "cell_type": "code",
   "execution_count": 5,
   "metadata": {},
   "outputs": [],
   "source": [
    "imgstring = ',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'"
   ]
  },
  {
   "cell_type": "code",
   "execution_count": 2,
   "metadata": {},
   "outputs": [],
   "source": [
    "ant = ',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'"
   ]
  },
  {
   "cell_type": "code",
   "execution_count": null,
   "metadata": {},
   "outputs": [],
   "source": [
    "img_uncode = 'data:image/jpeg;base64,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'"
   ]
  },
  {
   "cell_type": "code",
   "execution_count": null,
   "metadata": {},
   "outputs": [],
   "source": [
    "img_uncode = \",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\""
   ]
  },
  {
   "cell_type": "code",
   "execution_count": 7,
   "metadata": {},
   "outputs": [
    {
     "name": "stdout",
     "output_type": "stream",
     "text": [
      "74782263-c02b-4f5a-87bb-f348fe626627 100.0\n",
      "Charli\n"
     ]
    }
   ],
   "source": [
    "import boto3\n",
    "import io\n",
    "import base64\n",
    "import uuid\n",
    "import time\n",
    "from datetime import datetime\n",
    "\n",
    "\n",
    "\n",
    "\n",
    "def update_index(tableName,faceId, fullName, conf, image):\n",
    "    response = dynamodb.put_item(\n",
    "        TableName=tableName,\n",
    "        Item={\n",
    "            'logId': {'S': str(uuid.uuid4())},\n",
    "            'timestamp': {'N': str(time.mktime(datetime.now().timetuple()))},\n",
    "            'RekognitionId': {'S': faceId},\n",
    "            'FullName': {'S': fullName},\n",
    "            'DateTime': {'S': str(datetime.now())},\n",
    "            'Confidence': {'S': str(conf)},\n",
    "            'ImageB64' : {'S' : image}\n",
    "            }\n",
    "        )\n",
    "\n",
    "rekognition = boto3.client('rekognition', region_name='us-east-1')\n",
    "dynamodb = boto3.client('dynamodb', region_name='us-east-1')\n",
    "\n",
    "\n",
    "    \n",
    "imgdata = base64.b64decode(imgstring)\n",
    "stream = io.BytesIO(imgdata)\n",
    "image_binary = stream.getvalue()\n",
    "\n",
    "\n",
    "response = rekognition.search_faces_by_image(\n",
    "        CollectionId='CollectionRekog1',\n",
    "        Image={'Bytes':image_binary}                                       \n",
    "        )\n",
    "    \n",
    "for match in response['FaceMatches']:\n",
    "    print (match['Face']['FaceId'],match['Face']['Confidence'])\n",
    "        \n",
    "    face = dynamodb.get_item(\n",
    "        TableName='rekog-index',  \n",
    "        Key={'RekognitionId': {'S': match['Face']['FaceId']}}\n",
    "        )\n",
    "    \n",
    "    if 'Item' in face:\n",
    "        update_index('log-registry',match['Face']['FaceId'],face['Item']['FullName']['S'],\n",
    "                     match['Face']['Confidence'], imgstring)\n",
    "        print (face['Item']['FullName']['S'])\n",
    "    else:\n",
    "        update_index('log-registry',\"Unknown\",\"Unknown\", 0, imgstring)\n",
    "        print ('Personal no autorizado. Acceso Denegado')"
   ]
  },
  {
   "cell_type": "code",
   "execution_count": 7,
   "metadata": {},
   "outputs": [
    {
     "data": {
      "text/plain": [
       "{'Items': [],\n",
       " 'Count': 0,\n",
       " 'ScannedCount': 0,\n",
       " 'ResponseMetadata': {'RequestId': '938V8RUQ5PTUBU85C28G16R1KRVV4KQNSO5AEMVJF66Q9ASUAAJG',\n",
       "  'HTTPStatusCode': 200,\n",
       "  'HTTPHeaders': {'server': 'Server',\n",
       "   'date': 'Wed, 27 May 2020 16:55:14 GMT',\n",
       "   'content-type': 'application/x-amz-json-1.0',\n",
       "   'content-length': '39',\n",
       "   'connection': 'keep-alive',\n",
       "   'x-amzn-requestid': '938V8RUQ5PTUBU85C28G16R1KRVV4KQNSO5AEMVJF66Q9ASUAAJG',\n",
       "   'x-amz-crc32': '3413411624'},\n",
       "  'RetryAttempts': 0}}"
      ]
     },
     "execution_count": 7,
     "metadata": {},
     "output_type": "execute_result"
    }
   ],
   "source": [
    "from boto3.dynamodb.conditions import Key, Attr\n",
    "import time\n",
    "from datetime import datetime\n",
    "\n",
    "timestamp = str(time.mktime(datetime.now().timetuple()))\n",
    "\n",
    "dynamodb1 = boto3.resource('dynamodb', region_name='us-east-1')\n",
    "table = dynamodb1.Table('log-registry')\n",
    "\n",
    "time= 1590516163\n",
    "\n",
    "def get_last_logs(faceId = None, limite = 10):\n",
    "    if faceId != None:\n",
    "        response = table.query(IndexName='RekognitionId', Limit=limite, ScanIndexForward= False,\n",
    "        KeyConditionExpression=Key('RekognitionId').eq(faceId))\n",
    "    else:        \n",
    "        response = table.query(IndexName='dumpy', Limit=limite, ScanIndexForward= False,\n",
    "        KeyConditionExpression=Key('dumpy').eq('dumy'))\n",
    "\n",
    "    return response\n",
    "\n",
    "\n",
    "\n",
    "tabla = get_last_logs(limite=5)\n",
    "tabla\n"
   ]
  },
  {
   "cell_type": "code",
   "execution_count": null,
   "metadata": {
    "scrolled": true
   },
   "outputs": [],
   "source": [
    "import boto3\n",
    "from boto3.dynamodb.conditions import Key, Attr\n",
    "import time\n",
    "from datetime import datetime\n",
    "timestamp = int(time.mktime(datetime.now().timetuple()))\n",
    "\n",
    "dynamodb = boto3.resource('dynamodb', region_name='us-east-1')\n",
    "table = dynamodb.Table('test-db')\n",
    "faceId = \"581005b3-3916-4c53-bcc9-4fafb1eeb314\"\n",
    "faceId2 = \"e8ea28aa-a3df-46cd-89b6-a36709219809\"\n",
    "\n",
    "\n",
    "#response = table.scan(\n",
    "#    FilterExpression=Attr('RekognitionId').eq(faceId),\n",
    "#)\n",
    "\n",
    "\n",
    "response = table.query(\n",
    "              Limit = 1,\n",
    "              ScanIndexForward = False,\n",
    "              KeyConditionExpression=Key('RekognitionId').eq(faceId) & Key('timeStamp').lte(str(datetime.now(tz=None)))\n",
    "           )\n",
    "\n",
    "items = response['Items']\n",
    "logRegistry = []\n",
    "\n",
    "formato = \"%Y-%m-%d %H:%M:%S.%f\"\n",
    "da = datetime.strptime(\"1000-05-17 17:29:11.937275\", formato) \n",
    "\n",
    "\n",
    "\n",
    "for item in items:\n",
    "    print(item)\n",
    "#    if da > datetime.strptime(item['DateTime'], formato):\n",
    "#        logRegistry = item\n",
    "\n"
   ]
  },
  {
   "cell_type": "markdown",
   "metadata": {},
   "source": [
    "eliminar usuario del sistema"
   ]
  },
  {
   "cell_type": "code",
   "execution_count": 20,
   "metadata": {},
   "outputs": [
    {
     "name": "stdout",
     "output_type": "stream",
     "text": [
      "1 faces deleted:\n",
      "4ddeafe0-3c8b-40d3-bbe4-1269ebe811e3\n"
     ]
    },
    {
     "data": {
      "text/plain": [
       "1"
      ]
     },
     "execution_count": 20,
     "metadata": {},
     "output_type": "execute_result"
    }
   ],
   "source": [
    "import boto3\n",
    "\n",
    "from boto3.dynamodb.conditions import Key, Attr\n",
    "\n",
    "\n",
    "def delete_faces_from_collection(faces):\n",
    "    collection_id='CollectionRekog1'\n",
    "    client=boto3.client('rekognition', region_name='us-east-1')\n",
    "\n",
    "    response=client.delete_faces(CollectionId=collection_id,\n",
    "                               FaceIds=faces)\n",
    "    \n",
    "    print(str(len(response['DeletedFaces'])) + ' faces deleted:')\n",
    "    for faceId in response['DeletedFaces']:\n",
    "        print (faceId)\n",
    "        table.delete_item(\n",
    "            Key={\n",
    "                'RekognitionId': faceId\n",
    "            }\n",
    "        )\n",
    "    return len(response['DeletedFaces'])\n",
    "\n",
    "\n",
    "\n",
    "dynamodb = boto3.resource('dynamodb', region_name='us-east-1')\n",
    "table = dynamodb.Table('rekog-index')\n",
    "\n",
    "nombre = \"alex\"\n",
    "response = table.scan(\n",
    "    FilterExpression=Attr('FullName').eq(nombre)\n",
    ")\n",
    "items = response['Items']\n",
    "faceid = items[0]['RekognitionId']\n",
    "faces=[]\n",
    "faces.append(faceid)\n",
    "\n",
    "delete_faces_from_collection(faces)\n",
    "\n",
    "\n"
   ]
  },
  {
   "cell_type": "code",
   "execution_count": null,
   "metadata": {},
   "outputs": [],
   "source": [
    "    jsonify(response, 200)\n",
    "\n",
    "def jsonify(obj=None, statusCode=200):\n",
    "    response = {\n",
    "        'statusCode': statusCode,\n",
    "        'headers': DEFAULT_HEADERS\n",
    "    }\n",
    "    if obj is not None:\n",
    "        response['headers']['Content-Type'] = 'application/json'\n",
    "        response['body'] = json.dumps(obj)\n",
    "\n",
    "    return response"
   ]
  }
 ],
 "metadata": {
  "kernelspec": {
   "display_name": "Python 3",
   "language": "python",
   "name": "python3"
  },
  "language_info": {
   "codemirror_mode": {
    "name": "ipython",
    "version": 3
   },
   "file_extension": ".py",
   "mimetype": "text/x-python",
   "name": "python",
   "nbconvert_exporter": "python",
   "pygments_lexer": "ipython3",
   "version": "3.7.4"
  }
 },
 "nbformat": 4,
 "nbformat_minor": 4
}

{
 "cells": [
  {
   "cell_type": "markdown",
   "metadata": {},
   "source": [
    "Crear collection para que funcione el rekognition y extraiga de aqui las fotos"
   ]
  },
  {
   "cell_type": "code",
   "execution_count": null,
   "metadata": {},
   "outputs": [],
   "source": [
    "import boto3\n",
    "REGION = 'us-east-1'\n",
    "\n",
    "def create_collection(collection_id):\n",
    "\n",
    "    client=boto3.client('rekognition', region_name=REGION)\n",
    "\n",
    "    #Create a collection\n",
    "    print('Creating collection:' + collection_id)\n",
    "    response=client.create_collection(CollectionId=collection_id)\n",
    "    print('Collection ARN: ' + response['CollectionArn'])\n",
    "    print('Status code: ' + str(response['StatusCode']))\n",
    "    print('Done...')\n",
    "    \n",
    "def main():\n",
    "    #\n",
    "    ## Esta variable \"collection_id\" es importante\n",
    "    ##\n",
    "    collection_id='CollectionRekog1'\n",
    "    create_collection(collection_id)\n",
    "\n",
    "if __name__ == \"__main__\":\n",
    "    main()  "
   ]
  },
  {
   "cell_type": "markdown",
   "metadata": {},
   "source": [
    "Crear la bd y su estructura, con dynamo"
   ]
  },
  {
   "cell_type": "code",
   "execution_count": null,
   "metadata": {},
   "outputs": [],
   "source": [
    "import boto3\n",
    "REGION = 'us-east-1'\n",
    "\n",
    "dynamodb = boto3.resource('dynamodb', region_name=REGION)\n",
    "\n",
    "table = dynamodb.create_table(\n",
    "    TableName='rekog-index',\n",
    "    KeySchema=[\n",
    "        {\n",
    "            'AttributeName': 'RekognitionId',\n",
    "            'KeyType': 'HASH'\n",
    "        }\n",
    "    ],\n",
    "    AttributeDefinitions=[\n",
    "        {\n",
    "            'AttributeName': 'RekognitionId',\n",
    "            'AttributeType': 'S'\n",
    "        }\n",
    "    ],\n",
    "    ProvisionedThroughput={\n",
    "        'ReadCapacityUnits': 1,\n",
    "        'WriteCapacityUnits': 1\n",
    "    }\n",
    ")\n",
    "\n",
    "table.meta.client.get_waiter('table_exists').wait(TableName='rekog-index')\n",
    "print(table.item_count)"
   ]
  },
  {
   "cell_type": "markdown",
   "metadata": {},
   "source": [
    "Crear tabla logs"
   ]
  },
  {
   "cell_type": "code",
   "execution_count": null,
   "metadata": {},
   "outputs": [],
   "source": [
    "import boto3\n",
    "REGION = 'us-east-1'\n",
    "\n",
    "dynamodb = boto3.resource('dynamodb', region_name=REGION)\n",
    "\n",
    "table = dynamodb.create_table(\n",
    "    TableName='log-registry',\n",
    "    KeySchema=[\n",
    "        {\n",
    "            'AttributeName': 'logId',\n",
    "            'KeyType': 'HASH'\n",
    "        }\n",
    "    ],\n",
    "    AttributeDefinitions=[\n",
    "        {\n",
    "            'AttributeName': 'logId',\n",
    "            'AttributeType': 'S'\n",
    "        }\n",
    "    ],\n",
    "    ProvisionedThroughput={\n",
    "        'ReadCapacityUnits': 1,\n",
    "        'WriteCapacityUnits': 1\n",
    "    }\n",
    ")\n",
    "\n",
    "table.meta.client.get_waiter('table_exists').wait(TableName='log-registry')\n",
    "print(table.item_count)"
   ]
  },
  {
   "cell_type": "markdown",
   "metadata": {},
   "source": [
    "Crear el bucket que usaremos"
   ]
  },
  {
   "cell_type": "code",
   "execution_count": null,
   "metadata": {
    "scrolled": true
   },
   "outputs": [],
   "source": [
    "import boto3\n",
    "\n",
    "REGION = 'us-east-1'\n",
    "client = boto3.client('s3')\n",
    "\n",
    "s3 = boto3.client('s3', region_name=REGION)\n",
    "s3.create_bucket(Bucket='image-store-rekog-abp')"
   ]
  },
  {
   "cell_type": "code",
   "execution_count": null,
   "metadata": {
    "scrolled": true
   },
   "outputs": [],
   "source": [
    "import boto3\n",
    "\n",
    "REGION = 'us-east-1'\n",
    "client = boto3.client('s3')\n",
    "client.list_buckets()"
   ]
  },
  {
   "cell_type": "markdown",
   "metadata": {},
   "source": [
    "La creacion de la funcion lambda se hace desde el navegador como en el taller 2.\n",
    "(habrá que darle permisos a la funcion lambda, de todos los elementos s3, dynamo)\n",
    "Y se configura un trigger para s3.\n",
    "El codigo de la funcion:"
   ]
  },
  {
   "cell_type": "code",
   "execution_count": null,
   "metadata": {},
   "outputs": [],
   "source": [
    "from __future__ import print_function\n",
    "\n",
    "import boto3\n",
    "from decimal import Decimal\n",
    "import json\n",
    "import urllib\n",
    "\n",
    "print('Loading function')\n",
    "\n",
    "dynamodb = boto3.client('dynamodb')\n",
    "s3 = boto3.client('s3')\n",
    "rekognition = boto3.client('rekognition')\n",
    "\n",
    "\n",
    "# --------------- Helper Functions ------------------\n",
    "\n",
    "def index_faces(bucket, key):\n",
    "\n",
    "    response = rekognition.index_faces(\n",
    "        Image={\"S3Object\":\n",
    "            {\"Bucket\": bucket,\n",
    "            \"Name\": key}},\n",
    "            CollectionId=\"CollectionRekog1\")\n",
    "    return response\n",
    "    \n",
    "def update_index(tableName,faceId, fullName):\n",
    "    response = dynamodb.put_item(\n",
    "        TableName=tableName,\n",
    "        Item={\n",
    "            'RekognitionId': {'S': faceId},\n",
    "            'FullName': {'S': fullName}\n",
    "            }\n",
    "        ) \n",
    "    \n",
    "# --------------- Main handler ------------------\n",
    "\n",
    "def lambda_handler(event, context):\n",
    "\n",
    "    # Get the object from the event\n",
    "    bucket = event['Records'][0]['s3']['bucket']['name']\n",
    "    key = urllib.unquote_plus(\n",
    "        event['Records'][0]['s3']['object']['key'].encode('utf8'))\n",
    "\n",
    "    try:\n",
    "\n",
    "        # Calls Amazon Rekognition IndexFaces API to detect faces in S3 object \n",
    "        # to index faces into specified collection\n",
    "        \n",
    "        response = index_faces(bucket, key)\n",
    "        \n",
    "        # Commit faceId and full name object metadata to DynamoDB\n",
    "        \n",
    "        if response['ResponseMetadata']['HTTPStatusCode'] == 200:\n",
    "            faceId = response['FaceRecords'][0]['Face']['FaceId']\n",
    "\n",
    "            ret = s3.head_object(Bucket=bucket,Key=key)\n",
    "            personFullName = ret['Metadata']['fullname']\n",
    "\n",
    "            update_index('rekog-index',faceId,personFullName)\n",
    "\n",
    "        # Print response to console\n",
    "        print(response)\n",
    "\n",
    "        return response\n",
    "    except Exception as e:\n",
    "        print(e)\n",
    "        print(\"Error processing object {} from bucket {}. \".format(key, bucket))\n",
    "        raise e"
   ]
  },
  {
   "cell_type": "markdown",
   "metadata": {},
   "source": [
    "Esta parte del codigo es para subir las fotos de las personas que deseamos que estén autorizadas para entrar. \n",
    "Primero se sube las fotos al bucket"
   ]
  },
  {
   "cell_type": "code",
   "execution_count": 5,
   "metadata": {},
   "outputs": [
    {
     "ename": "ParamValidationError",
     "evalue": "Parameter validation failed:\nNon ascii characters found in S3 metadata for key \"FullName\", value: \"Carlos Morán\".  \nS3 metadata can only contain ASCII characters. ",
     "output_type": "error",
     "traceback": [
      "\u001b[1;31m---------------------------------------------------------------------------\u001b[0m",
      "\u001b[1;31mUnicodeEncodeError\u001b[0m                        Traceback (most recent call last)",
      "\u001b[1;32mD:\\Anaconda3\\lib\\site-packages\\botocore\\handlers.py\u001b[0m in \u001b[0;36mvalidate_ascii_metadata\u001b[1;34m(params, **kwargs)\u001b[0m\n\u001b[0;32m    532\u001b[0m             \u001b[0mkey\u001b[0m\u001b[1;33m.\u001b[0m\u001b[0mencode\u001b[0m\u001b[1;33m(\u001b[0m\u001b[1;34m'ascii'\u001b[0m\u001b[1;33m)\u001b[0m\u001b[1;33m\u001b[0m\u001b[1;33m\u001b[0m\u001b[0m\n\u001b[1;32m--> 533\u001b[1;33m             \u001b[0mvalue\u001b[0m\u001b[1;33m.\u001b[0m\u001b[0mencode\u001b[0m\u001b[1;33m(\u001b[0m\u001b[1;34m'ascii'\u001b[0m\u001b[1;33m)\u001b[0m\u001b[1;33m\u001b[0m\u001b[1;33m\u001b[0m\u001b[0m\n\u001b[0m\u001b[0;32m    534\u001b[0m         \u001b[1;32mexcept\u001b[0m \u001b[0mUnicodeEncodeError\u001b[0m \u001b[1;32mas\u001b[0m \u001b[0me\u001b[0m\u001b[1;33m:\u001b[0m\u001b[1;33m\u001b[0m\u001b[1;33m\u001b[0m\u001b[0m\n",
      "\u001b[1;31mUnicodeEncodeError\u001b[0m: 'ascii' codec can't encode character '\\xe1' in position 10: ordinal not in range(128)",
      "\nDuring handling of the above exception, another exception occurred:\n",
      "\u001b[1;31mParamValidationError\u001b[0m                      Traceback (most recent call last)",
      "\u001b[1;32m<ipython-input-5-0661a6447cf4>\u001b[0m in \u001b[0;36m<module>\u001b[1;34m\u001b[0m\n\u001b[0;32m     18\u001b[0m     \u001b[0mobject\u001b[0m \u001b[1;33m=\u001b[0m \u001b[0ms3\u001b[0m\u001b[1;33m.\u001b[0m\u001b[0mObject\u001b[0m\u001b[1;33m(\u001b[0m\u001b[1;34m'image-store-rekog-abp'\u001b[0m\u001b[1;33m,\u001b[0m\u001b[1;34m'index/'\u001b[0m\u001b[1;33m+\u001b[0m \u001b[0mstr\u001b[0m\u001b[1;33m(\u001b[0m\u001b[0muuid\u001b[0m\u001b[1;33m.\u001b[0m\u001b[0muuid4\u001b[0m\u001b[1;33m(\u001b[0m\u001b[1;33m)\u001b[0m\u001b[1;33m)\u001b[0m \u001b[1;33m+\u001b[0m \u001b[1;34m\".jpeg\"\u001b[0m\u001b[1;33m)\u001b[0m\u001b[1;33m\u001b[0m\u001b[1;33m\u001b[0m\u001b[0m\n\u001b[0;32m     19\u001b[0m     ret = object.put(Body=file,\n\u001b[1;32m---> 20\u001b[1;33m                     \u001b[0mMetadata\u001b[0m\u001b[1;33m=\u001b[0m\u001b[1;33m{\u001b[0m\u001b[1;34m'FullName'\u001b[0m\u001b[1;33m:\u001b[0m\u001b[0mimage\u001b[0m\u001b[1;33m[\u001b[0m\u001b[1;36m1\u001b[0m\u001b[1;33m]\u001b[0m\u001b[1;33m}\u001b[0m\u001b[1;33m\u001b[0m\u001b[1;33m\u001b[0m\u001b[0m\n\u001b[0m\u001b[0;32m     21\u001b[0m                     )\n",
      "\u001b[1;32mD:\\Anaconda3\\lib\\site-packages\\boto3\\resources\\factory.py\u001b[0m in \u001b[0;36mdo_action\u001b[1;34m(self, *args, **kwargs)\u001b[0m\n\u001b[0;32m    518\u001b[0m             \u001b[1;31m# instance via ``self``.\u001b[0m\u001b[1;33m\u001b[0m\u001b[1;33m\u001b[0m\u001b[1;33m\u001b[0m\u001b[0m\n\u001b[0;32m    519\u001b[0m             \u001b[1;32mdef\u001b[0m \u001b[0mdo_action\u001b[0m\u001b[1;33m(\u001b[0m\u001b[0mself\u001b[0m\u001b[1;33m,\u001b[0m \u001b[1;33m*\u001b[0m\u001b[0margs\u001b[0m\u001b[1;33m,\u001b[0m \u001b[1;33m**\u001b[0m\u001b[0mkwargs\u001b[0m\u001b[1;33m)\u001b[0m\u001b[1;33m:\u001b[0m\u001b[1;33m\u001b[0m\u001b[1;33m\u001b[0m\u001b[0m\n\u001b[1;32m--> 520\u001b[1;33m                 \u001b[0mresponse\u001b[0m \u001b[1;33m=\u001b[0m \u001b[0maction\u001b[0m\u001b[1;33m(\u001b[0m\u001b[0mself\u001b[0m\u001b[1;33m,\u001b[0m \u001b[1;33m*\u001b[0m\u001b[0margs\u001b[0m\u001b[1;33m,\u001b[0m \u001b[1;33m**\u001b[0m\u001b[0mkwargs\u001b[0m\u001b[1;33m)\u001b[0m\u001b[1;33m\u001b[0m\u001b[1;33m\u001b[0m\u001b[0m\n\u001b[0m\u001b[0;32m    521\u001b[0m \u001b[1;33m\u001b[0m\u001b[0m\n\u001b[0;32m    522\u001b[0m                 \u001b[1;32mif\u001b[0m \u001b[0mhasattr\u001b[0m\u001b[1;33m(\u001b[0m\u001b[0mself\u001b[0m\u001b[1;33m,\u001b[0m \u001b[1;34m'load'\u001b[0m\u001b[1;33m)\u001b[0m\u001b[1;33m:\u001b[0m\u001b[1;33m\u001b[0m\u001b[1;33m\u001b[0m\u001b[0m\n",
      "\u001b[1;32mD:\\Anaconda3\\lib\\site-packages\\boto3\\resources\\action.py\u001b[0m in \u001b[0;36m__call__\u001b[1;34m(self, parent, *args, **kwargs)\u001b[0m\n\u001b[0;32m     81\u001b[0m                     operation_name, params)\n\u001b[0;32m     82\u001b[0m \u001b[1;33m\u001b[0m\u001b[0m\n\u001b[1;32m---> 83\u001b[1;33m         \u001b[0mresponse\u001b[0m \u001b[1;33m=\u001b[0m \u001b[0mgetattr\u001b[0m\u001b[1;33m(\u001b[0m\u001b[0mparent\u001b[0m\u001b[1;33m.\u001b[0m\u001b[0mmeta\u001b[0m\u001b[1;33m.\u001b[0m\u001b[0mclient\u001b[0m\u001b[1;33m,\u001b[0m \u001b[0moperation_name\u001b[0m\u001b[1;33m)\u001b[0m\u001b[1;33m(\u001b[0m\u001b[1;33m**\u001b[0m\u001b[0mparams\u001b[0m\u001b[1;33m)\u001b[0m\u001b[1;33m\u001b[0m\u001b[1;33m\u001b[0m\u001b[0m\n\u001b[0m\u001b[0;32m     84\u001b[0m \u001b[1;33m\u001b[0m\u001b[0m\n\u001b[0;32m     85\u001b[0m         \u001b[0mlogger\u001b[0m\u001b[1;33m.\u001b[0m\u001b[0mdebug\u001b[0m\u001b[1;33m(\u001b[0m\u001b[1;34m'Response: %r'\u001b[0m\u001b[1;33m,\u001b[0m \u001b[0mresponse\u001b[0m\u001b[1;33m)\u001b[0m\u001b[1;33m\u001b[0m\u001b[1;33m\u001b[0m\u001b[0m\n",
      "\u001b[1;32mD:\\Anaconda3\\lib\\site-packages\\botocore\\client.py\u001b[0m in \u001b[0;36m_api_call\u001b[1;34m(self, *args, **kwargs)\u001b[0m\n\u001b[0;32m    355\u001b[0m                     \"%s() only accepts keyword arguments.\" % py_operation_name)\n\u001b[0;32m    356\u001b[0m             \u001b[1;31m# The \"self\" in this scope is referring to the BaseClient.\u001b[0m\u001b[1;33m\u001b[0m\u001b[1;33m\u001b[0m\u001b[1;33m\u001b[0m\u001b[0m\n\u001b[1;32m--> 357\u001b[1;33m             \u001b[1;32mreturn\u001b[0m \u001b[0mself\u001b[0m\u001b[1;33m.\u001b[0m\u001b[0m_make_api_call\u001b[0m\u001b[1;33m(\u001b[0m\u001b[0moperation_name\u001b[0m\u001b[1;33m,\u001b[0m \u001b[0mkwargs\u001b[0m\u001b[1;33m)\u001b[0m\u001b[1;33m\u001b[0m\u001b[1;33m\u001b[0m\u001b[0m\n\u001b[0m\u001b[0;32m    358\u001b[0m \u001b[1;33m\u001b[0m\u001b[0m\n\u001b[0;32m    359\u001b[0m         \u001b[0m_api_call\u001b[0m\u001b[1;33m.\u001b[0m\u001b[0m__name__\u001b[0m \u001b[1;33m=\u001b[0m \u001b[0mstr\u001b[0m\u001b[1;33m(\u001b[0m\u001b[0mpy_operation_name\u001b[0m\u001b[1;33m)\u001b[0m\u001b[1;33m\u001b[0m\u001b[1;33m\u001b[0m\u001b[0m\n",
      "\u001b[1;32mD:\\Anaconda3\\lib\\site-packages\\botocore\\client.py\u001b[0m in \u001b[0;36m_make_api_call\u001b[1;34m(self, operation_name, api_params)\u001b[0m\n\u001b[0;32m    632\u001b[0m         }\n\u001b[0;32m    633\u001b[0m         request_dict = self._convert_to_request_dict(\n\u001b[1;32m--> 634\u001b[1;33m             api_params, operation_model, context=request_context)\n\u001b[0m\u001b[0;32m    635\u001b[0m \u001b[1;33m\u001b[0m\u001b[0m\n\u001b[0;32m    636\u001b[0m         \u001b[0mservice_id\u001b[0m \u001b[1;33m=\u001b[0m \u001b[0mself\u001b[0m\u001b[1;33m.\u001b[0m\u001b[0m_service_model\u001b[0m\u001b[1;33m.\u001b[0m\u001b[0mservice_id\u001b[0m\u001b[1;33m.\u001b[0m\u001b[0mhyphenize\u001b[0m\u001b[1;33m(\u001b[0m\u001b[1;33m)\u001b[0m\u001b[1;33m\u001b[0m\u001b[1;33m\u001b[0m\u001b[0m\n",
      "\u001b[1;32mD:\\Anaconda3\\lib\\site-packages\\botocore\\client.py\u001b[0m in \u001b[0;36m_convert_to_request_dict\u001b[1;34m(self, api_params, operation_model, context)\u001b[0m\n\u001b[0;32m    678\u001b[0m                                  context=None):\n\u001b[0;32m    679\u001b[0m         api_params = self._emit_api_params(\n\u001b[1;32m--> 680\u001b[1;33m             api_params, operation_model, context)\n\u001b[0m\u001b[0;32m    681\u001b[0m         request_dict = self._serializer.serialize_to_request(\n\u001b[0;32m    682\u001b[0m             api_params, operation_model)\n",
      "\u001b[1;32mD:\\Anaconda3\\lib\\site-packages\\botocore\\client.py\u001b[0m in \u001b[0;36m_emit_api_params\u001b[1;34m(self, api_params, operation_model, context)\u001b[0m\n\u001b[0;32m    710\u001b[0m                 \u001b[0mservice_id\u001b[0m\u001b[1;33m=\u001b[0m\u001b[0mservice_id\u001b[0m\u001b[1;33m,\u001b[0m\u001b[1;33m\u001b[0m\u001b[1;33m\u001b[0m\u001b[0m\n\u001b[0;32m    711\u001b[0m                 operation_name=operation_name),\n\u001b[1;32m--> 712\u001b[1;33m             params=api_params, model=operation_model, context=context)\n\u001b[0m\u001b[0;32m    713\u001b[0m         \u001b[1;32mreturn\u001b[0m \u001b[0mapi_params\u001b[0m\u001b[1;33m\u001b[0m\u001b[1;33m\u001b[0m\u001b[0m\n\u001b[0;32m    714\u001b[0m \u001b[1;33m\u001b[0m\u001b[0m\n",
      "\u001b[1;32mD:\\Anaconda3\\lib\\site-packages\\botocore\\hooks.py\u001b[0m in \u001b[0;36memit\u001b[1;34m(self, event_name, **kwargs)\u001b[0m\n\u001b[0;32m    354\u001b[0m     \u001b[1;32mdef\u001b[0m \u001b[0memit\u001b[0m\u001b[1;33m(\u001b[0m\u001b[0mself\u001b[0m\u001b[1;33m,\u001b[0m \u001b[0mevent_name\u001b[0m\u001b[1;33m,\u001b[0m \u001b[1;33m**\u001b[0m\u001b[0mkwargs\u001b[0m\u001b[1;33m)\u001b[0m\u001b[1;33m:\u001b[0m\u001b[1;33m\u001b[0m\u001b[1;33m\u001b[0m\u001b[0m\n\u001b[0;32m    355\u001b[0m         \u001b[0maliased_event_name\u001b[0m \u001b[1;33m=\u001b[0m \u001b[0mself\u001b[0m\u001b[1;33m.\u001b[0m\u001b[0m_alias_event_name\u001b[0m\u001b[1;33m(\u001b[0m\u001b[0mevent_name\u001b[0m\u001b[1;33m)\u001b[0m\u001b[1;33m\u001b[0m\u001b[1;33m\u001b[0m\u001b[0m\n\u001b[1;32m--> 356\u001b[1;33m         \u001b[1;32mreturn\u001b[0m \u001b[0mself\u001b[0m\u001b[1;33m.\u001b[0m\u001b[0m_emitter\u001b[0m\u001b[1;33m.\u001b[0m\u001b[0memit\u001b[0m\u001b[1;33m(\u001b[0m\u001b[0maliased_event_name\u001b[0m\u001b[1;33m,\u001b[0m \u001b[1;33m**\u001b[0m\u001b[0mkwargs\u001b[0m\u001b[1;33m)\u001b[0m\u001b[1;33m\u001b[0m\u001b[1;33m\u001b[0m\u001b[0m\n\u001b[0m\u001b[0;32m    357\u001b[0m \u001b[1;33m\u001b[0m\u001b[0m\n\u001b[0;32m    358\u001b[0m     \u001b[1;32mdef\u001b[0m \u001b[0memit_until_response\u001b[0m\u001b[1;33m(\u001b[0m\u001b[0mself\u001b[0m\u001b[1;33m,\u001b[0m \u001b[0mevent_name\u001b[0m\u001b[1;33m,\u001b[0m \u001b[1;33m**\u001b[0m\u001b[0mkwargs\u001b[0m\u001b[1;33m)\u001b[0m\u001b[1;33m:\u001b[0m\u001b[1;33m\u001b[0m\u001b[1;33m\u001b[0m\u001b[0m\n",
      "\u001b[1;32mD:\\Anaconda3\\lib\\site-packages\\botocore\\hooks.py\u001b[0m in \u001b[0;36memit\u001b[1;34m(self, event_name, **kwargs)\u001b[0m\n\u001b[0;32m    226\u001b[0m                  \u001b[0mhandlers\u001b[0m\u001b[1;33m.\u001b[0m\u001b[1;33m\u001b[0m\u001b[1;33m\u001b[0m\u001b[0m\n\u001b[0;32m    227\u001b[0m         \"\"\"\n\u001b[1;32m--> 228\u001b[1;33m         \u001b[1;32mreturn\u001b[0m \u001b[0mself\u001b[0m\u001b[1;33m.\u001b[0m\u001b[0m_emit\u001b[0m\u001b[1;33m(\u001b[0m\u001b[0mevent_name\u001b[0m\u001b[1;33m,\u001b[0m \u001b[0mkwargs\u001b[0m\u001b[1;33m)\u001b[0m\u001b[1;33m\u001b[0m\u001b[1;33m\u001b[0m\u001b[0m\n\u001b[0m\u001b[0;32m    229\u001b[0m \u001b[1;33m\u001b[0m\u001b[0m\n\u001b[0;32m    230\u001b[0m     \u001b[1;32mdef\u001b[0m \u001b[0memit_until_response\u001b[0m\u001b[1;33m(\u001b[0m\u001b[0mself\u001b[0m\u001b[1;33m,\u001b[0m \u001b[0mevent_name\u001b[0m\u001b[1;33m,\u001b[0m \u001b[1;33m**\u001b[0m\u001b[0mkwargs\u001b[0m\u001b[1;33m)\u001b[0m\u001b[1;33m:\u001b[0m\u001b[1;33m\u001b[0m\u001b[1;33m\u001b[0m\u001b[0m\n",
      "\u001b[1;32mD:\\Anaconda3\\lib\\site-packages\\botocore\\hooks.py\u001b[0m in \u001b[0;36m_emit\u001b[1;34m(self, event_name, kwargs, stop_on_response)\u001b[0m\n\u001b[0;32m    209\u001b[0m         \u001b[1;32mfor\u001b[0m \u001b[0mhandler\u001b[0m \u001b[1;32min\u001b[0m \u001b[0mhandlers_to_call\u001b[0m\u001b[1;33m:\u001b[0m\u001b[1;33m\u001b[0m\u001b[1;33m\u001b[0m\u001b[0m\n\u001b[0;32m    210\u001b[0m             \u001b[0mlogger\u001b[0m\u001b[1;33m.\u001b[0m\u001b[0mdebug\u001b[0m\u001b[1;33m(\u001b[0m\u001b[1;34m'Event %s: calling handler %s'\u001b[0m\u001b[1;33m,\u001b[0m \u001b[0mevent_name\u001b[0m\u001b[1;33m,\u001b[0m \u001b[0mhandler\u001b[0m\u001b[1;33m)\u001b[0m\u001b[1;33m\u001b[0m\u001b[1;33m\u001b[0m\u001b[0m\n\u001b[1;32m--> 211\u001b[1;33m             \u001b[0mresponse\u001b[0m \u001b[1;33m=\u001b[0m \u001b[0mhandler\u001b[0m\u001b[1;33m(\u001b[0m\u001b[1;33m**\u001b[0m\u001b[0mkwargs\u001b[0m\u001b[1;33m)\u001b[0m\u001b[1;33m\u001b[0m\u001b[1;33m\u001b[0m\u001b[0m\n\u001b[0m\u001b[0;32m    212\u001b[0m             \u001b[0mresponses\u001b[0m\u001b[1;33m.\u001b[0m\u001b[0mappend\u001b[0m\u001b[1;33m(\u001b[0m\u001b[1;33m(\u001b[0m\u001b[0mhandler\u001b[0m\u001b[1;33m,\u001b[0m \u001b[0mresponse\u001b[0m\u001b[1;33m)\u001b[0m\u001b[1;33m)\u001b[0m\u001b[1;33m\u001b[0m\u001b[1;33m\u001b[0m\u001b[0m\n\u001b[0;32m    213\u001b[0m             \u001b[1;32mif\u001b[0m \u001b[0mstop_on_response\u001b[0m \u001b[1;32mand\u001b[0m \u001b[0mresponse\u001b[0m \u001b[1;32mis\u001b[0m \u001b[1;32mnot\u001b[0m \u001b[1;32mNone\u001b[0m\u001b[1;33m:\u001b[0m\u001b[1;33m\u001b[0m\u001b[1;33m\u001b[0m\u001b[0m\n",
      "\u001b[1;32mD:\\Anaconda3\\lib\\site-packages\\botocore\\handlers.py\u001b[0m in \u001b[0;36mvalidate_ascii_metadata\u001b[1;34m(params, **kwargs)\u001b[0m\n\u001b[0;32m    539\u001b[0m             )\n\u001b[0;32m    540\u001b[0m             raise ParamValidationError(\n\u001b[1;32m--> 541\u001b[1;33m                 report=error_msg)\n\u001b[0m\u001b[0;32m    542\u001b[0m \u001b[1;33m\u001b[0m\u001b[0m\n\u001b[0;32m    543\u001b[0m \u001b[1;33m\u001b[0m\u001b[0m\n",
      "\u001b[1;31mParamValidationError\u001b[0m: Parameter validation failed:\nNon ascii characters found in S3 metadata for key \"FullName\", value: \"Carlos Morán\".  \nS3 metadata can only contain ASCII characters. "
     ]
    }
   ],
   "source": [
    "import boto3\n",
    "import uuid\n",
    "\n",
    "s3 = boto3.resource('s3')\n",
    "\n",
    "# Get list of objects for indexing\n",
    "images=[('foto1.jpeg','Carlos Morán'),\n",
    "#      ,('foto1.jpeg','Albert Einstein'),\n",
    "#      ('image04.jpeg','Niels Bohr'),\n",
    "#      ('image05.jpeg','Niels Bohr'),\n",
    "#      ('image06.jpeg','Niels Bohr')\n",
    "      ]\n",
    "\n",
    "# Iterate through list to upload objects to S3   \n",
    "for image in images:\n",
    "    file = open(image[0],'rb')\n",
    "    \n",
    "    object = s3.Object('image-store-rekog-abp','index/'+ str(uuid.uuid4()) + \".jpeg\")\n",
    "    ret = object.put(Body=file,\n",
    "                    Metadata={'FullName':image[1]}\n",
    "                    )"
   ]
  },
  {
   "cell_type": "markdown",
   "metadata": {},
   "source": [
    "Listar contenido insertado del bucket"
   ]
  },
  {
   "cell_type": "code",
   "execution_count": null,
   "metadata": {},
   "outputs": [],
   "source": [
    "s3 = boto3.client('s3', region_name=REGION)\n",
    "response = s3.list_objects_v2(\n",
    "    Bucket='image-store-rekog-abp',\n",
    "    Prefix=''\n",
    ")\n",
    "keys = [obj['Key'] for obj in response['Contents']]\n",
    "print(keys)"
   ]
  },
  {
   "cell_type": "markdown",
   "metadata": {},
   "source": [
    "Si la funcion lambda se ha disparado correctamente, con la siguiente celda podremos ver los elementos almacenados en la \"collection\""
   ]
  },
  {
   "cell_type": "code",
   "execution_count": 6,
   "metadata": {
    "scrolled": false
   },
   "outputs": [
    {
     "name": "stdout",
     "output_type": "stream",
     "text": [
      "Faces in collection CollectionRekog1\n",
      "{'FaceId': '2671d2c7-a8af-4afd-82c6-7a1052022aa4', 'BoundingBox': {'Width': 0.29779601097106934, 'Height': 0.41804400086402893, 'Left': 0.42515701055526733, 'Top': 0.24244900047779083}, 'ImageId': 'b3935b41-4bf0-38d4-a1d7-44efdccb715c', 'Confidence': 100.0}\n",
      "{'FaceId': '9b70bf58-113f-4a36-bd38-4154a095519c', 'BoundingBox': {'Width': 0.4828140139579773, 'Height': 0.4835380017757416, 'Left': 0.2533479928970337, 'Top': 0.2389259934425354}, 'ImageId': '77a9e17b-363c-3dfb-84d3-a9f447a51912', 'Confidence': 100.0}\n",
      "faces count: 2\n"
     ]
    }
   ],
   "source": [
    "import boto3\n",
    "\n",
    "def list_faces_in_collection(collection_id):\n",
    "\n",
    "\n",
    "    maxResults=2\n",
    "    faces_count=0\n",
    "    tokens=True\n",
    "\n",
    "    client=boto3.client('rekognition', region_name='us-east-1')\n",
    "    response=client.list_faces(CollectionId=collection_id,\n",
    "                               MaxResults=maxResults)\n",
    "\n",
    "    print('Faces in collection ' + collection_id)\n",
    "\n",
    " \n",
    "    while tokens:\n",
    "\n",
    "        faces=response['Faces']\n",
    "\n",
    "        for face in faces:\n",
    "            print (face)\n",
    "            faces_count+=1\n",
    "        if 'NextToken' in response:\n",
    "            nextToken=response['NextToken']\n",
    "            response=client.list_faces(CollectionId=collection_id,\n",
    "                                       NextToken=nextToken,MaxResults=maxResults)\n",
    "        else:\n",
    "            tokens=False\n",
    "    return faces_count   \n",
    "def main():\n",
    "\n",
    "    collection_id='CollectionRekog1'\n",
    "\n",
    "    faces_count=list_faces_in_collection(collection_id)\n",
    "    print(\"faces count: \" + str(faces_count))\n",
    "if __name__ == \"__main__\":\n",
    "    main()"
   ]
  },
  {
   "cell_type": "markdown",
   "metadata": {},
   "source": [
    "Eliminar imagenes de la collection"
   ]
  },
  {
   "cell_type": "code",
   "execution_count": 7,
   "metadata": {
    "scrolled": false
   },
   "outputs": [
    {
     "name": "stdout",
     "output_type": "stream",
     "text": [
      "1 faces deleted:\n",
      "2671d2c7-a8af-4afd-82c6-7a1052022aa4\n",
      "deleted faces count: 1\n"
     ]
    }
   ],
   "source": [
    "import boto3\n",
    "\n",
    "def delete_faces_from_collection(collection_id, faces):\n",
    "\n",
    "    client=boto3.client('rekognition', region_name='us-east-1')\n",
    "\n",
    "    response=client.delete_faces(CollectionId=collection_id,\n",
    "                               FaceIds=faces)\n",
    "    \n",
    "    print(str(len(response['DeletedFaces'])) + ' faces deleted:')\n",
    "    for faceId in response['DeletedFaces']:\n",
    "         print (faceId)\n",
    "    return len(response['DeletedFaces'])\n",
    "\n",
    "def main():\n",
    "\n",
    "    collection_id='CollectionRekog1'\n",
    "    faces=[]\n",
    "    faces.append(\"ca3874db-a09b-4fa9-abfa-96744730812a\")\n",
    "    faces.append(\"2671d2c7-a8af-4afd-82c6-7a1052022aa4\")\n",
    "\n",
    "    faces_count=delete_faces_from_collection(collection_id, faces)\n",
    "    print(\"deleted faces count: \" + str(faces_count))\n",
    "\n",
    "if __name__ == \"__main__\":\n",
    "    main()"
   ]
  },
  {
   "cell_type": "markdown",
   "metadata": {},
   "source": [
    "## Analisis de imagen"
   ]
  },
  {
   "cell_type": "markdown",
   "metadata": {},
   "source": [
    "Ahora le daremos una imagen, y buscará coincidencias en la collection, y ademas, nos devolverá de dynamo el nombre del usuario"
   ]
  },
  {
   "cell_type": "code",
   "execution_count": null,
   "metadata": {
    "scrolled": false
   },
   "outputs": [],
   "source": [
    "import boto3\n",
    "import io\n",
    "from PIL import Image\n",
    "\n",
    "rekognition = boto3.client('rekognition', region_name='us-east-1')\n",
    "dynamodb = boto3.client('dynamodb', region_name='us-east-1')\n",
    "    \n",
    "image = Image.open(\"pt1.jpeg\")\n",
    "stream = io.BytesIO()\n",
    "image.save(stream,format=\"JPEG\")\n",
    "image_binary = stream.getvalue()\n",
    "\n",
    "\n",
    "response = rekognition.search_faces_by_image(\n",
    "        CollectionId='CollectionRekog1',\n",
    "        Image={'Bytes':image_binary}                                       \n",
    "        )\n",
    "    \n",
    "for match in response['FaceMatches']:\n",
    "    print (match['Face']['FaceId'],match['Face']['Confidence'])\n",
    "        \n",
    "    face = dynamodb.get_item(\n",
    "        TableName='rekog-index',  \n",
    "        Key={'RekognitionId': {'S': match['Face']['FaceId']}}\n",
    "        )\n",
    "    \n",
    "    if 'Item' in face:\n",
    "        print (face['Item']['FullName']['S'])\n",
    "    else:\n",
    "        print ('no match found in person lookup')"
   ]
  },
  {
   "cell_type": "code",
   "execution_count": null,
   "metadata": {},
   "outputs": [],
   "source": [
    "imgstring = ',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'"
   ]
  },
  {
   "cell_type": "code",
   "execution_count": null,
   "metadata": {},
   "outputs": [],
   "source": [
    "img_uncode = 'data:image/jpeg;base64,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'"
   ]
  },
  {
   "cell_type": "code",
   "execution_count": null,
   "metadata": {},
   "outputs": [],
   "source": [
    "import boto3\n",
    "import io\n",
    "import base64\n",
    "import uuid\n",
    "from datetime import datetime\n",
    "\n",
    "\n",
    "def update_index(tableName,faceId, fullName, conf):\n",
    "    response = dynamodb.put_item(\n",
    "        TableName=tableName,\n",
    "        Item={\n",
    "            'logId': {'S': str(uuid.uuid4())},\n",
    "            'RekognitionId': {'S': faceId},\n",
    "            'FullName': {'S': fullName},\n",
    "            'DateTime': {'S': str(datetime.now())},\n",
    "            'Confidence': {'S': str(conf)}\n",
    "            }\n",
    "        )\n",
    "\n",
    "rekognition = boto3.client('rekognition', region_name='us-east-1')\n",
    "dynamodb = boto3.client('dynamodb', region_name='us-east-1')\n",
    "    \n",
    "imgdata = base64.b64decode(imgstring)\n",
    "stream = io.BytesIO(imgdata)\n",
    "image_binary = stream.getvalue()\n",
    "\n",
    "\n",
    "response = rekognition.search_faces_by_image(\n",
    "        CollectionId='CollectionRekog1',\n",
    "        Image={'Bytes':image_binary}                                       \n",
    "        )\n",
    "    \n",
    "for match in response['FaceMatches']:\n",
    "    print (match['Face']['FaceId'],match['Face']['Confidence'])\n",
    "        \n",
    "    face = dynamodb.get_item(\n",
    "        TableName='rekog-index',  \n",
    "        Key={'RekognitionId': {'S': match['Face']['FaceId']}}\n",
    "        )\n",
    "    \n",
    "    if 'Item' in face:\n",
    "        update_index('log-registry',match['Face']['FaceId'],face['Item']['FullName']['S'], match['Face']['Confidence'])\n",
    "        print (face['Item']['FullName']['S'])\n",
    "    else:\n",
    "        print ('Personal no autorizado. Acceso Denegado')"
   ]
  },
  {
   "cell_type": "code",
   "execution_count": null,
   "metadata": {},
   "outputs": [],
   "source": [
    "    jsonify(response, 200)\n",
    "\n",
    "def jsonify(obj=None, statusCode=200):\n",
    "    response = {\n",
    "        'statusCode': statusCode,\n",
    "        'headers': DEFAULT_HEADERS\n",
    "    }\n",
    "    if obj is not None:\n",
    "        response['headers']['Content-Type'] = 'application/json'\n",
    "        response['body'] = json.dumps(obj)\n",
    "\n",
    "    return response"
   ]
  }
 ],
 "metadata": {
  "kernelspec": {
   "display_name": "Python 3",
   "language": "python",
   "name": "python3"
  },
  "language_info": {
   "codemirror_mode": {
    "name": "ipython",
    "version": 3
   },
   "file_extension": ".py",
   "mimetype": "text/x-python",
   "name": "python",
   "nbconvert_exporter": "python",
   "pygments_lexer": "ipython3",
   "version": "3.7.4"
  }
 },
 "nbformat": 4,
 "nbformat_minor": 4
}
